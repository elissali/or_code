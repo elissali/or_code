{
 "cells": [
  {
   "cell_type": "code",
   "execution_count": 1,
   "metadata": {},
   "outputs": [
    {
     "name": "stdout",
     "output_type": "stream",
     "text": [
      "/Users/elissali/Dropbox/Stanford/CS_224N/Final_Project\n"
     ]
    }
   ],
   "source": [
    "%cd ~/Dropbox/Stanford/CS_224N/Final_Project"
   ]
  },
  {
   "cell_type": "code",
   "execution_count": 2,
   "metadata": {},
   "outputs": [],
   "source": [
    "import pandas as pd\n",
    "import numpy as np\n",
    "from scipy import stats\n",
    "import seaborn as sns\n",
    "import matplotlib\n",
    "import matplotlib.pyplot as plt\n",
    "%matplotlib inline\n",
    "matplotlib.style.use('ggplot')\n",
    "\n",
    "sns.set(color_codes=True)"
   ]
  },
  {
   "cell_type": "code",
   "execution_count": 3,
   "metadata": {},
   "outputs": [],
   "source": [
    "data_df = pd.read_csv('./data_2.csv', sep=',')\n",
    "means_df = pd.read_csv('./sentence_means_var.csv', sep=',')\n",
    "annotated_df = pd.read_csv('./hand_annotated.csv', sep=',')\n",
    "distrib_df = pd.read_csv('./datasets/seed_0/test_db.csv', sep=',')\n",
    "\n",
    "\n",
    "def func(tgrep):\n",
    "    if tgrep[-3:] == ':00':\n",
    "        return tgrep[:-3]\n",
    "    else: return tgrep\n",
    "annotated_df['tgrep.id'] = annotated_df['tgrep.id'].apply(func)\n",
    "means_df['tgrep.id'] = means_df['tgrep.id'].apply(func)"
   ]
  },
  {
   "cell_type": "code",
   "execution_count": 4,
   "metadata": {},
   "outputs": [
    {
     "data": {
      "text/html": [
       "<div>\n",
       "<style scoped>\n",
       "    .dataframe tbody tr th:only-of-type {\n",
       "        vertical-align: middle;\n",
       "    }\n",
       "\n",
       "    .dataframe tbody tr th {\n",
       "        vertical-align: top;\n",
       "    }\n",
       "\n",
       "    .dataframe thead th {\n",
       "        text-align: right;\n",
       "    }\n",
       "</style>\n",
       "<table border=\"1\" class=\"dataframe\">\n",
       "  <thead>\n",
       "    <tr style=\"text-align: right;\">\n",
       "      <th></th>\n",
       "      <th>Item</th>\n",
       "      <th>Mean</th>\n",
       "      <th>Var</th>\n",
       "      <th>Alpha</th>\n",
       "      <th>Beta</th>\n",
       "      <th>Params</th>\n",
       "      <th>Raw_Distrib</th>\n",
       "      <th>Discrete_Distrib</th>\n",
       "      <th>Sentence</th>\n",
       "    </tr>\n",
       "  </thead>\n",
       "  <tbody>\n",
       "    <tr>\n",
       "      <th>0</th>\n",
       "      <td>164352:51</td>\n",
       "      <td>0.546667</td>\n",
       "      <td>0.119333</td>\n",
       "      <td>0.492825</td>\n",
       "      <td>0.362092</td>\n",
       "      <td>(0.4928251755022261  0.3620915386852378)</td>\n",
       "      <td>[0.33  0.84  0.86  0.76  0.99  0.31  0.74  0.0...</td>\n",
       "      <td>[0.11111111 0.         0.22222222 0.         0...</td>\n",
       "      <td>i think in some cases it  doesn't matter if it...</td>\n",
       "    </tr>\n",
       "    <tr>\n",
       "      <th>1</th>\n",
       "      <td>173504:75</td>\n",
       "      <td>0.666667</td>\n",
       "      <td>0.104422</td>\n",
       "      <td>0.304365</td>\n",
       "      <td>0.169157</td>\n",
       "      <td>(0.30436478242287335  0.1691570683290402)</td>\n",
       "      <td>[0.21  1.0  0.86  0.69  0.9  0.13  0.91  0.95 ...</td>\n",
       "      <td>[0.11111111 0.11111111 0.11111111 0.         0...</td>\n",
       "      <td>and if you don't you'll perish. either by the ...</td>\n",
       "    </tr>\n",
       "    <tr>\n",
       "      <th>2</th>\n",
       "      <td>112347:54</td>\n",
       "      <td>0.566842</td>\n",
       "      <td>0.110874</td>\n",
       "      <td>0.531796</td>\n",
       "      <td>0.351648</td>\n",
       "      <td>(0.5317960082250381  0.35164841970003324)</td>\n",
       "      <td>[0.53  0.73  0.09  0.89  0.88  0.64  0.75  0.1...</td>\n",
       "      <td>[0.26315789 0.         0.05263158 0.10526316 0...</td>\n",
       "      <td>now, my kids didn't like it because they just ...</td>\n",
       "    </tr>\n",
       "    <tr>\n",
       "      <th>3</th>\n",
       "      <td>113966:144</td>\n",
       "      <td>0.451111</td>\n",
       "      <td>0.082143</td>\n",
       "      <td>1.172429</td>\n",
       "      <td>0.863586</td>\n",
       "      <td>(1.1724290563691957  0.8635857726442795)</td>\n",
       "      <td>[0.37  0.43  0.35  0.86  0.7  0.02  0.36  0.1 ...</td>\n",
       "      <td>[0.22222222 0.         0.33333333 0.11111111 0...</td>\n",
       "      <td>and finally our governor at the time which who...</td>\n",
       "    </tr>\n",
       "    <tr>\n",
       "      <th>4</th>\n",
       "      <td>155785:58</td>\n",
       "      <td>0.508889</td>\n",
       "      <td>0.066721</td>\n",
       "      <td>0.345911</td>\n",
       "      <td>0.222104</td>\n",
       "      <td>(0.34591075051904796  0.22210411312128392)</td>\n",
       "      <td>[0.66  0.73  0.53  0.72  0.83  0.63  0.16  0.1...</td>\n",
       "      <td>[0.11111111 0.22222222 0.         0.11111111 0...</td>\n",
       "      <td>and we seem  to be able  to get along with the...</td>\n",
       "    </tr>\n",
       "    <tr>\n",
       "      <th>5</th>\n",
       "      <td>9072:53:00</td>\n",
       "      <td>0.404444</td>\n",
       "      <td>0.118825</td>\n",
       "      <td>0.251853</td>\n",
       "      <td>0.401979</td>\n",
       "      <td>(0.25185309059299565  0.4019789085496089)</td>\n",
       "      <td>[0.18  0.02  0.34  0.77  0.03  0.32  0.92  0.1...</td>\n",
       "      <td>[0.22222222 0.22222222 0.22222222 0.         0...</td>\n",
       "      <td>well, i was just going  to say, it's a little ...</td>\n",
       "    </tr>\n",
       "  </tbody>\n",
       "</table>\n",
       "</div>"
      ],
      "text/plain": [
       "         Item      Mean       Var     Alpha      Beta  \\\n",
       "0   164352:51  0.546667  0.119333  0.492825  0.362092   \n",
       "1   173504:75  0.666667  0.104422  0.304365  0.169157   \n",
       "2   112347:54  0.566842  0.110874  0.531796  0.351648   \n",
       "3  113966:144  0.451111  0.082143  1.172429  0.863586   \n",
       "4   155785:58  0.508889  0.066721  0.345911  0.222104   \n",
       "5  9072:53:00  0.404444  0.118825  0.251853  0.401979   \n",
       "\n",
       "                                       Params  \\\n",
       "0    (0.4928251755022261  0.3620915386852378)   \n",
       "1   (0.30436478242287335  0.1691570683290402)   \n",
       "2   (0.5317960082250381  0.35164841970003324)   \n",
       "3    (1.1724290563691957  0.8635857726442795)   \n",
       "4  (0.34591075051904796  0.22210411312128392)   \n",
       "5   (0.25185309059299565  0.4019789085496089)   \n",
       "\n",
       "                                         Raw_Distrib  \\\n",
       "0  [0.33  0.84  0.86  0.76  0.99  0.31  0.74  0.0...   \n",
       "1  [0.21  1.0  0.86  0.69  0.9  0.13  0.91  0.95 ...   \n",
       "2  [0.53  0.73  0.09  0.89  0.88  0.64  0.75  0.1...   \n",
       "3  [0.37  0.43  0.35  0.86  0.7  0.02  0.36  0.1 ...   \n",
       "4  [0.66  0.73  0.53  0.72  0.83  0.63  0.16  0.1...   \n",
       "5  [0.18  0.02  0.34  0.77  0.03  0.32  0.92  0.1...   \n",
       "\n",
       "                                    Discrete_Distrib  \\\n",
       "0  [0.11111111 0.         0.22222222 0.         0...   \n",
       "1  [0.11111111 0.11111111 0.11111111 0.         0...   \n",
       "2  [0.26315789 0.         0.05263158 0.10526316 0...   \n",
       "3  [0.22222222 0.         0.33333333 0.11111111 0...   \n",
       "4  [0.11111111 0.22222222 0.         0.11111111 0...   \n",
       "5  [0.22222222 0.22222222 0.22222222 0.         0...   \n",
       "\n",
       "                                            Sentence  \n",
       "0  i think in some cases it  doesn't matter if it...  \n",
       "1  and if you don't you'll perish. either by the ...  \n",
       "2  now, my kids didn't like it because they just ...  \n",
       "3  and finally our governor at the time which who...  \n",
       "4  and we seem  to be able  to get along with the...  \n",
       "5  well, i was just going  to say, it's a little ...  "
      ]
     },
     "execution_count": 4,
     "metadata": {},
     "output_type": "execute_result"
    }
   ],
   "source": [
    "distrib_df[0:6]"
   ]
  },
  {
   "cell_type": "markdown",
   "metadata": {},
   "source": [
    "## example 1"
   ]
  },
  {
   "cell_type": "code",
   "execution_count": 4,
   "metadata": {},
   "outputs": [
    {
     "data": {
      "text/plain": [
       "'[0.33  0.84  0.86  0.76  0.99  0.31  0.74  0.0  0.09]'"
      ]
     },
     "execution_count": 4,
     "metadata": {},
     "output_type": "execute_result"
    }
   ],
   "source": [
    "x = distrib_df['Raw_Distrib'][0]\n",
    "x"
   ]
  },
  {
   "cell_type": "code",
   "execution_count": 5,
   "metadata": {},
   "outputs": [
    {
     "name": "stdout",
     "output_type": "stream",
     "text": [
      "[0.33 0.84 0.86 0.76 0.99 0.31 0.74 0.   0.09]\n"
     ]
    },
    {
     "data": {
      "text/plain": [
       "(array([2., 0., 0., 2., 0., 0., 0., 2., 2., 1.]),\n",
       " array([0.        , 0.099     , 0.198     , 0.297     , 0.396     ,\n",
       "        0.495     , 0.594     , 0.693     , 0.792     , 0.89100003,\n",
       "        0.99      ], dtype=float32),\n",
       " <a list of 10 Patch objects>)"
      ]
     },
     "execution_count": 5,
     "metadata": {},
     "output_type": "execute_result"
    },
    {
     "data": {
      "image/png": "[encoded data removed]",
      "text/plain": [
       "<Figure size 432x288 with 1 Axes>"
      ]
     },
     "metadata": {
      "needs_background": "light"
     },
     "output_type": "display_data"
    }
   ],
   "source": [
    "x = distrib_df['Raw_Distrib'][0]\n",
    "x = x.strip(']')\n",
    "x = x.strip('[')\n",
    "x = x.split()\n",
    "list_x = np.array(x, dtype=np.float32)\n",
    "print(list_x)\n",
    "plt.hist(list_x)"
   ]
  },
  {
   "cell_type": "markdown",
   "metadata": {},
   "source": [
    "This is the actual distribution of ratings for sentence with `tgrep.id = 164352:51`."
   ]
  },
  {
   "cell_type": "code",
   "execution_count": 6,
   "metadata": {},
   "outputs": [
    {
     "name": "stdout",
     "output_type": "stream",
     "text": [
      "0.5863107870724427 0.33767697261504037\n"
     ]
    }
   ],
   "source": [
    "a, b = stats.beta.fit(list_x)[0:2]\n",
    "print(a,b)"
   ]
  },
  {
   "cell_type": "code",
   "execution_count": 7,
   "metadata": {},
   "outputs": [
    {
     "name": "stdout",
     "output_type": "stream",
     "text": [
      "0.4928251755022261 0.3620915386852378\n",
      "----\n",
      "tgrep id:  164352:51\n"
     ]
    }
   ],
   "source": [
    "n=0\n",
    "a = distrib_df['Alpha'][n]\n",
    "b = distrib_df['Beta'][n]\n",
    "print(a,b)\n",
    "print(\"----\")\n",
    "print(\"tgrep id: \", distrib_df['Item'][n])"
   ]
  },
  {
   "cell_type": "markdown",
   "metadata": {},
   "source": [
    "Now I calculate the alpha/beta params for the beta distribution fitted over this sample of data points. Notice I need to do the 0.0000001 thing because floc and fscale basically set the range for the distribution but they're exclusive... and it's possible we get 0 or 1 ratings, so I need to make sure those extreme ratings are included within the range.\n",
    "\n",
    "Basically, `floc` is the minimum bound (x can't be less than `floc`) and then `fscale` + `floc` is the upper bound (x can't be higher than `fscale` + `floc`). Like, if `floc = 0.5` and `fscale = 2`, then x has to be bounded by `(0.5, 2.5)`.\n",
    "\n",
    "So for my purposes, I think the super tiny random values I chose (like the 0.00000001) are okay."
   ]
  },
  {
   "cell_type": "code",
   "execution_count": 8,
   "metadata": {},
   "outputs": [
    {
     "data": {
      "image/png": "[encoded data removed]",
      "text/plain": [
       "<Figure size 432x288 with 1 Axes>"
      ]
     },
     "metadata": {
      "needs_background": "light"
     },
     "output_type": "display_data"
    }
   ],
   "source": [
    "def plot_beta(x_range, a, b, mu=0, sigma=1, cdf=False, **kwargs):\n",
    "    '''\n",
    "    Plots the f distribution function for a given x range, a and b\n",
    "    If mu and sigma are not provided, standard beta is plotted\n",
    "    If cdf=True cumulative distribution is plotted\n",
    "    Passes any keyword arguments to matplotlib plot function\n",
    "    '''\n",
    "    x = x_range\n",
    "    if cdf:\n",
    "        y = stats.beta.cdf(x, a, b, mu, sigma)\n",
    "    else:\n",
    "        y = stats.beta.pdf(x, a, b, mu, sigma)\n",
    "    plt.plot(x, y, **kwargs)\n",
    "x = np.linspace(0, 1, 100)\n",
    "\n",
    "plt.hist(list_x, label='actual')\n",
    "plot_beta(x, a, b, color='blue', lw=2, ls='-', label='cdf')\n",
    "plt.legend();"
   ]
  },
  {
   "cell_type": "markdown",
   "metadata": {},
   "source": [
    "## example 2"
   ]
  },
  {
   "cell_type": "code",
   "execution_count": 9,
   "metadata": {},
   "outputs": [],
   "source": [
    "n = 1\n",
    "x = distrib_df['Raw_Distrib'][n]\n",
    "x = x.strip(']')\n",
    "x = x.strip('[')\n",
    "x = x.split()\n",
    "list_x = np.array(x, dtype=np.float32)\n",
    "# plt.hist(list_x)"
   ]
  },
  {
   "cell_type": "markdown",
   "metadata": {},
   "source": [
    "This is the actual distribution of ratings for sentence with `tgrep.id = 173504:75`."
   ]
  },
  {
   "cell_type": "code",
   "execution_count": 10,
   "metadata": {},
   "outputs": [
    {
     "name": "stdout",
     "output_type": "stream",
     "text": [
      "0.31683355587750256 0.16626723141584215\n",
      "----\n",
      "tgrep id:  173504:75\n"
     ]
    }
   ],
   "source": [
    "a, b = stats.beta.fit(list_x)[0:2]\n",
    "print(a,b)\n",
    "print(\"----\")\n",
    "print(\"tgrep id: \", distrib_df['Item'][n])"
   ]
  },
  {
   "cell_type": "code",
   "execution_count": 11,
   "metadata": {},
   "outputs": [
    {
     "name": "stdout",
     "output_type": "stream",
     "text": [
      "0.3043647824228733 0.1691570683290402\n"
     ]
    }
   ],
   "source": [
    "a = distrib_df['Alpha'][n]\n",
    "b = distrib_df['Beta'][n]\n",
    "print(a,b)"
   ]
  },
  {
   "cell_type": "code",
   "execution_count": 12,
   "metadata": {},
   "outputs": [
    {
     "data": {
      "image/png": "[encoded data removed]",
      "text/plain": [
       "<Figure size 432x288 with 1 Axes>"
      ]
     },
     "metadata": {
      "needs_background": "light"
     },
     "output_type": "display_data"
    }
   ],
   "source": [
    "x = np.linspace(0, 1, 100)\n",
    "plt.hist(list_x, label='actual')\n",
    "plot_beta(x, a, b, color='blue', lw=2, ls='-', label='cdf')\n",
    "plt.legend();"
   ]
  },
  {
   "cell_type": "markdown",
   "metadata": {},
   "source": [
    "## example 3"
   ]
  },
  {
   "cell_type": "code",
   "execution_count": 13,
   "metadata": {},
   "outputs": [
    {
     "name": "stdout",
     "output_type": "stream",
     "text": [
      "0.5317960082250381 0.35164841970003324\n",
      "----\n",
      "tgrep id:  112347:54\n"
     ]
    }
   ],
   "source": [
    "n = 2\n",
    "x = distrib_df['Raw_Distrib'][n]\n",
    "x = x.strip(']')\n",
    "x = x.strip('[')\n",
    "x = x.split()\n",
    "list_x = np.array(x, dtype=np.float32)\n",
    "\n",
    "a = distrib_df['Alpha'][n]\n",
    "b = distrib_df['Beta'][n]\n",
    "print(a,b)\n",
    "print(\"----\")\n",
    "print(\"tgrep id: \", distrib_df['Item'][n])"
   ]
  },
  {
   "cell_type": "code",
   "execution_count": 14,
   "metadata": {
    "scrolled": true
   },
   "outputs": [
    {
     "data": {
      "image/png": "[encoded data removed]",
      "text/plain": [
       "<Figure size 432x288 with 1 Axes>"
      ]
     },
     "metadata": {
      "needs_background": "light"
     },
     "output_type": "display_data"
    }
   ],
   "source": [
    "x = np.linspace(0, 1, 100)\n",
    "plt.hist(list_x, label='actual')\n",
    "plot_beta(x, a, b, color='blue', lw=2, ls='-', label='cdf')\n",
    "plt.legend();"
   ]
  },
  {
   "cell_type": "markdown",
   "metadata": {},
   "source": [
    "## example 4"
   ]
  },
  {
   "cell_type": "code",
   "execution_count": 24,
   "metadata": {},
   "outputs": [
    {
     "name": "stdout",
     "output_type": "stream",
     "text": [
      "1.1724290563691957 0.8635857726442795\n",
      "----\n",
      "tgrep id:  113966:144\n"
     ]
    }
   ],
   "source": [
    "n = 3\n",
    "x = distrib_df['Raw_Distrib'][n]\n",
    "x = x.strip(']')\n",
    "x = x.strip('[')\n",
    "x = x.split()\n",
    "list_x = np.array(x, dtype=np.float32)\n",
    "\n",
    "a = distrib_df['Alpha'][n]\n",
    "b = distrib_df['Beta'][n]\n",
    "print(a,b)\n",
    "print(\"----\")\n",
    "print(\"tgrep id: \", distrib_df['Item'][n])"
   ]
  },
  {
   "cell_type": "code",
   "execution_count": 25,
   "metadata": {},
   "outputs": [
    {
     "data": {
      "text/plain": [
       "array([0.37, 0.43, 0.35, 0.86, 0.7 , 0.02, 0.36, 0.1 , 0.87],\n",
       "      dtype=float32)"
      ]
     },
     "execution_count": 25,
     "metadata": {},
     "output_type": "execute_result"
    }
   ],
   "source": [
    "list_x"
   ]
  },
  {
   "cell_type": "markdown",
   "metadata": {},
   "source": [
    "This is the actual and predicted distribution of ratings for sentence with `tgrep.id = 113966:144`."
   ]
  },
  {
   "cell_type": "code",
   "execution_count": 16,
   "metadata": {
    "scrolled": false
   },
   "outputs": [
    {
     "data": {
      "image/png": "[encoded data removed]",
      "text/plain": [
       "<Figure size 432x288 with 1 Axes>"
      ]
     },
     "metadata": {
      "needs_background": "light"
     },
     "output_type": "display_data"
    }
   ],
   "source": [
    "x = np.linspace(0, 1, 100)\n",
    "plt.hist(list_x, label='actual')\n",
    "plot_beta(x, a, b, color='blue', lw=2, ls='-', label='cdf')\n",
    "plt.legend();"
   ]
  },
  {
   "cell_type": "markdown",
   "metadata": {},
   "source": [
    "## example 5"
   ]
  },
  {
   "cell_type": "code",
   "execution_count": 17,
   "metadata": {},
   "outputs": [
    {
     "name": "stdout",
     "output_type": "stream",
     "text": [
      "0.345910750519048 0.22210411312128392\n",
      "----\n",
      "tgrep id:  155785:58\n"
     ]
    }
   ],
   "source": [
    "n = 4\n",
    "x = distrib_df['Raw_Distrib'][n]\n",
    "x = x.strip(']')\n",
    "x = x.strip('[')\n",
    "x = x.split()\n",
    "list_x = np.array(x, dtype=np.float32)\n",
    "\n",
    "a = distrib_df['Alpha'][n]\n",
    "b = distrib_df['Beta'][n]\n",
    "print(a,b)\n",
    "print(\"----\")\n",
    "print(\"tgrep id: \", distrib_df['Item'][n])"
   ]
  },
  {
   "cell_type": "code",
   "execution_count": 18,
   "metadata": {
    "scrolled": true
   },
   "outputs": [
    {
     "data": {
      "image/png": "[encoded data removed]",
      "text/plain": [
       "<Figure size 432x288 with 1 Axes>"
      ]
     },
     "metadata": {
      "needs_background": "light"
     },
     "output_type": "display_data"
    }
   ],
   "source": [
    "x = np.linspace(0, 1, 100)\n",
    "plt.hist(list_x, label='actual')\n",
    "plot_beta(x, a, b, color='blue', lw=2, ls='-', label='cdf')\n",
    "plt.legend();"
   ]
  },
  {
   "cell_type": "markdown",
   "metadata": {},
   "source": [
    "## example 6"
   ]
  },
  {
   "cell_type": "code",
   "execution_count": 19,
   "metadata": {},
   "outputs": [
    {
     "name": "stdout",
     "output_type": "stream",
     "text": [
      "0.25185309059299565 0.4019789085496089\n",
      "----\n",
      "tgrep id:  9072:53:00\n"
     ]
    }
   ],
   "source": [
    "n = 5\n",
    "x = distrib_df['Raw_Distrib'][n]\n",
    "x = x.strip(']')\n",
    "x = x.strip('[')\n",
    "x = x.split()\n",
    "list_x = np.array(x, dtype=np.float32)\n",
    "\n",
    "a = distrib_df['Alpha'][n]\n",
    "b = distrib_df['Beta'][n]\n",
    "print(a,b)\n",
    "print(\"----\")\n",
    "print(\"tgrep id: \", distrib_df['Item'][n])"
   ]
  },
  {
   "cell_type": "code",
   "execution_count": 20,
   "metadata": {
    "scrolled": false
   },
   "outputs": [
    {
     "data": {
      "image/png": "[encoded data removed]",
      "text/plain": [
       "<Figure size 432x288 with 1 Axes>"
      ]
     },
     "metadata": {
      "needs_background": "light"
     },
     "output_type": "display_data"
    }
   ],
   "source": [
    "x = np.linspace(0, 1, 100)\n",
    "plt.hist(list_x, label='actual')\n",
    "plot_beta(x, a, b, color='blue', label='cdf')\n",
    "plt.legend();"
   ]
  },
  {
   "cell_type": "code",
   "execution_count": null,
   "metadata": {},
   "outputs": [],
   "source": []
  },
  {
   "cell_type": "code",
   "execution_count": null,
   "metadata": {},
   "outputs": [],
   "source": []
  }
 ],
 "metadata": {
  "kernelspec": {
   "display_name": "Python 3",
   "language": "python",
   "name": "python3"
  },
  "language_info": {
   "codemirror_mode": {
    "name": "ipython",
    "version": 3
   },
   "file_extension": ".py",
   "mimetype": "text/x-python",
   "name": "python",
   "nbconvert_exporter": "python",
   "pygments_lexer": "ipython3",
   "version": "3.7.2"
  }
 },
 "nbformat": 4,
 "nbformat_minor": 2
}
