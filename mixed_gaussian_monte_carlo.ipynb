{
 "cells": [
  {
   "cell_type": "code",
   "execution_count": 2,
   "metadata": {
    "scrolled": true
   },
   "outputs": [
    {
     "name": "stdout",
     "output_type": "stream",
     "text": [
      "/Users/elissali/Dropbox/Stanford/CS_224N/Final_Project\n"
     ]
    }
   ],
   "source": [
    "%cd ~/Dropbox/Stanford/CS_224N/Final_Project"
   ]
  },
  {
   "cell_type": "code",
   "execution_count": 3,
   "metadata": {},
   "outputs": [],
   "source": [
    "import pandas as pd\n",
    "import numpy as np\n",
    "from scipy import stats\n",
    "from sklearn import mixture\n",
    "import seaborn as sns\n",
    "import matplotlib\n",
    "import matplotlib.pyplot as plt\n",
    "%matplotlib inline\n",
    "matplotlib.style.use('ggplot')\n",
    "\n",
    "sns.set(color_codes=True)"
   ]
  },
  {
   "cell_type": "code",
   "execution_count": 4,
   "metadata": {},
   "outputs": [],
   "source": [
    "data_df = pd.read_csv('./data_2.csv', sep=',')\n",
    "means_df = pd.read_csv('./sentence_means_var.csv', sep=',')\n",
    "annotated_df = pd.read_csv('./hand_annotated.csv', sep=',')\n",
    "distrib_df = pd.read_csv('./datasets/seed_0/test_db.csv', sep=',')\n",
    "\n",
    "\n",
    "def func(tgrep):\n",
    "    if tgrep[-3:] == ':00':\n",
    "        return tgrep[:-3]\n",
    "    else: return tgrep\n",
    "annotated_df['tgrep.id'] = annotated_df['tgrep.id'].apply(func)\n",
    "means_df['tgrep.id'] = means_df['tgrep.id'].apply(func)"
   ]
  },
  {
   "cell_type": "code",
   "execution_count": 5,
   "metadata": {},
   "outputs": [
    {
     "data": {
      "text/html": [
       "<div>\n",
       "<style scoped>\n",
       "    .dataframe tbody tr th:only-of-type {\n",
       "        vertical-align: middle;\n",
       "    }\n",
       "\n",
       "    .dataframe tbody tr th {\n",
       "        vertical-align: top;\n",
       "    }\n",
       "\n",
       "    .dataframe thead th {\n",
       "        text-align: right;\n",
       "    }\n",
       "</style>\n",
       "<table border=\"1\" class=\"dataframe\">\n",
       "  <thead>\n",
       "    <tr style=\"text-align: right;\">\n",
       "      <th></th>\n",
       "      <th>Item</th>\n",
       "      <th>Mean</th>\n",
       "      <th>Var</th>\n",
       "      <th>Alpha</th>\n",
       "      <th>Beta</th>\n",
       "      <th>Beta_Params</th>\n",
       "      <th>Mixed_Means</th>\n",
       "      <th>Mixed_Stds</th>\n",
       "      <th>Raw_Distrib</th>\n",
       "      <th>Discrete_Distrib</th>\n",
       "      <th>Sentence</th>\n",
       "    </tr>\n",
       "  </thead>\n",
       "  <tbody>\n",
       "    <tr>\n",
       "      <th>0</th>\n",
       "      <td>164352:51</td>\n",
       "      <td>0.546667</td>\n",
       "      <td>0.119333</td>\n",
       "      <td>0.492825</td>\n",
       "      <td>0.362092</td>\n",
       "      <td>(0.4928251755022261  0.3620915386852378)</td>\n",
       "      <td>[0.18258308 0.83801041]</td>\n",
       "      <td>[0.10003483971618532  0.06267761041495623]</td>\n",
       "      <td>[0.33  0.84  0.86  0.76  0.99  0.31  0.74  0.0...</td>\n",
       "      <td>[0.11111111 0.         0.22222222 0.         0...</td>\n",
       "      <td>i think in some cases it  doesn't matter if it...</td>\n",
       "    </tr>\n",
       "    <tr>\n",
       "      <th>1</th>\n",
       "      <td>173504:75</td>\n",
       "      <td>0.666667</td>\n",
       "      <td>0.104422</td>\n",
       "      <td>0.304365</td>\n",
       "      <td>0.169157</td>\n",
       "      <td>(0.30436478242287335  0.1691570683290402)</td>\n",
       "      <td>[0.88500025 0.23000163]</td>\n",
       "      <td>[0.06889365897762463  0.0642977843208062]</td>\n",
       "      <td>[0.21  1.0  0.86  0.69  0.9  0.13  0.91  0.95 ...</td>\n",
       "      <td>[0.11111111 0.11111111 0.11111111 0.         0...</td>\n",
       "      <td>and if you don't you'll perish. either by the ...</td>\n",
       "    </tr>\n",
       "    <tr>\n",
       "      <th>2</th>\n",
       "      <td>112347:54</td>\n",
       "      <td>0.566842</td>\n",
       "      <td>0.110874</td>\n",
       "      <td>0.531796</td>\n",
       "      <td>0.351648</td>\n",
       "      <td>(0.5317960082250381  0.35164841970003324)</td>\n",
       "      <td>[0.7425799  0.07397243]</td>\n",
       "      <td>[0.1274219484352285  0.024744727986892034]</td>\n",
       "      <td>[0.53  0.73  0.09  0.89  0.88  0.64  0.75  0.1...</td>\n",
       "      <td>[0.26315789 0.         0.05263158 0.10526316 0...</td>\n",
       "      <td>now, my kids didn't like it because they just ...</td>\n",
       "    </tr>\n",
       "    <tr>\n",
       "      <th>3</th>\n",
       "      <td>113966:144</td>\n",
       "      <td>0.451111</td>\n",
       "      <td>0.082143</td>\n",
       "      <td>1.172429</td>\n",
       "      <td>0.863586</td>\n",
       "      <td>(1.1724290563691957  0.8635857726442795)</td>\n",
       "      <td>[0.81302442 0.27770252]</td>\n",
       "      <td>[0.05428152741979706  0.11368843168590435]</td>\n",
       "      <td>[0.37  0.43  0.35  0.86  0.7  0.02  0.36  0.1 ...</td>\n",
       "      <td>[0.22222222 0.         0.33333333 0.11111111 0...</td>\n",
       "      <td>and finally our governor at the time which who...</td>\n",
       "    </tr>\n",
       "    <tr>\n",
       "      <th>4</th>\n",
       "      <td>155785:58</td>\n",
       "      <td>0.508889</td>\n",
       "      <td>0.066721</td>\n",
       "      <td>0.345911</td>\n",
       "      <td>0.222104</td>\n",
       "      <td>(0.34591075051904796  0.22210411312128392)</td>\n",
       "      <td>[0.6833333 0.16     ]</td>\n",
       "      <td>[0.06578971647599703  0.011568637396776152]</td>\n",
       "      <td>[0.66  0.73  0.53  0.72  0.83  0.63  0.16  0.1...</td>\n",
       "      <td>[0.11111111 0.22222222 0.         0.11111111 0...</td>\n",
       "      <td>and we seem  to be able  to get along with the...</td>\n",
       "    </tr>\n",
       "    <tr>\n",
       "      <th>5</th>\n",
       "      <td>9072:53:00</td>\n",
       "      <td>0.404444</td>\n",
       "      <td>0.118825</td>\n",
       "      <td>0.251853</td>\n",
       "      <td>0.401979</td>\n",
       "      <td>(0.25185309059299565  0.4019789085496089)</td>\n",
       "      <td>[0.86666778 0.17333675]</td>\n",
       "      <td>[0.04842436546150406  0.0884830643388667]</td>\n",
       "      <td>[0.18  0.02  0.34  0.77  0.03  0.32  0.92  0.1...</td>\n",
       "      <td>[0.22222222 0.22222222 0.22222222 0.         0...</td>\n",
       "      <td>well, i was just going  to say, it's a little ...</td>\n",
       "    </tr>\n",
       "  </tbody>\n",
       "</table>\n",
       "</div>"
      ],
      "text/plain": [
       "         Item      Mean       Var     Alpha      Beta  \\\n",
       "0   164352:51  0.546667  0.119333  0.492825  0.362092   \n",
       "1   173504:75  0.666667  0.104422  0.304365  0.169157   \n",
       "2   112347:54  0.566842  0.110874  0.531796  0.351648   \n",
       "3  113966:144  0.451111  0.082143  1.172429  0.863586   \n",
       "4   155785:58  0.508889  0.066721  0.345911  0.222104   \n",
       "5  9072:53:00  0.404444  0.118825  0.251853  0.401979   \n",
       "\n",
       "                                  Beta_Params              Mixed_Means  \\\n",
       "0    (0.4928251755022261  0.3620915386852378)  [0.18258308 0.83801041]   \n",
       "1   (0.30436478242287335  0.1691570683290402)  [0.88500025 0.23000163]   \n",
       "2   (0.5317960082250381  0.35164841970003324)  [0.7425799  0.07397243]   \n",
       "3    (1.1724290563691957  0.8635857726442795)  [0.81302442 0.27770252]   \n",
       "4  (0.34591075051904796  0.22210411312128392)    [0.6833333 0.16     ]   \n",
       "5   (0.25185309059299565  0.4019789085496089)  [0.86666778 0.17333675]   \n",
       "\n",
       "                                    Mixed_Stds  \\\n",
       "0   [0.10003483971618532  0.06267761041495623]   \n",
       "1    [0.06889365897762463  0.0642977843208062]   \n",
       "2   [0.1274219484352285  0.024744727986892034]   \n",
       "3   [0.05428152741979706  0.11368843168590435]   \n",
       "4  [0.06578971647599703  0.011568637396776152]   \n",
       "5    [0.04842436546150406  0.0884830643388667]   \n",
       "\n",
       "                                         Raw_Distrib  \\\n",
       "0  [0.33  0.84  0.86  0.76  0.99  0.31  0.74  0.0...   \n",
       "1  [0.21  1.0  0.86  0.69  0.9  0.13  0.91  0.95 ...   \n",
       "2  [0.53  0.73  0.09  0.89  0.88  0.64  0.75  0.1...   \n",
       "3  [0.37  0.43  0.35  0.86  0.7  0.02  0.36  0.1 ...   \n",
       "4  [0.66  0.73  0.53  0.72  0.83  0.63  0.16  0.1...   \n",
       "5  [0.18  0.02  0.34  0.77  0.03  0.32  0.92  0.1...   \n",
       "\n",
       "                                    Discrete_Distrib  \\\n",
       "0  [0.11111111 0.         0.22222222 0.         0...   \n",
       "1  [0.11111111 0.11111111 0.11111111 0.         0...   \n",
       "2  [0.26315789 0.         0.05263158 0.10526316 0...   \n",
       "3  [0.22222222 0.         0.33333333 0.11111111 0...   \n",
       "4  [0.11111111 0.22222222 0.         0.11111111 0...   \n",
       "5  [0.22222222 0.22222222 0.22222222 0.         0...   \n",
       "\n",
       "                                            Sentence  \n",
       "0  i think in some cases it  doesn't matter if it...  \n",
       "1  and if you don't you'll perish. either by the ...  \n",
       "2  now, my kids didn't like it because they just ...  \n",
       "3  and finally our governor at the time which who...  \n",
       "4  and we seem  to be able  to get along with the...  \n",
       "5  well, i was just going  to say, it's a little ...  "
      ]
     },
     "execution_count": 5,
     "metadata": {},
     "output_type": "execute_result"
    }
   ],
   "source": [
    "distrib_df[0:6]"
   ]
  },
  {
   "cell_type": "code",
   "execution_count": 6,
   "metadata": {},
   "outputs": [],
   "source": [
    "a = data_df.groupby('tgrep.id')['response_val'].apply(list)\n",
    "# a.keys()\n",
    "\n",
    "# for i, tgrep in enumerate(a.keys()):\n",
    "#     print(tgrep)"
   ]
  },
  {
   "cell_type": "markdown",
   "metadata": {},
   "source": [
    "## Gaussian Mixture Preprocessing\n",
    "\n",
    "First, below is the actual distribution of scores for a sentence:"
   ]
  },
  {
   "cell_type": "code",
   "execution_count": 7,
   "metadata": {},
   "outputs": [
    {
     "data": {
      "text/plain": [
       "'[0.33  0.84  0.86  0.76  0.99  0.31  0.74  0.0  0.09]'"
      ]
     },
     "execution_count": 7,
     "metadata": {},
     "output_type": "execute_result"
    }
   ],
   "source": [
    "x = distrib_df['Raw_Distrib'][0]\n",
    "x"
   ]
  },
  {
   "cell_type": "code",
   "execution_count": 8,
   "metadata": {},
   "outputs": [
    {
     "name": "stdout",
     "output_type": "stream",
     "text": [
      "[0.33 0.84 0.86 0.76 0.99 0.31 0.74 0.   0.09]\n"
     ]
    },
    {
     "data": {
      "image/png": "[encoded data removed]",
      "text/plain": [
       "<Figure size 432x288 with 1 Axes>"
      ]
     },
     "metadata": {
      "needs_background": "light"
     },
     "output_type": "display_data"
    }
   ],
   "source": [
    "x = distrib_df['Raw_Distrib'][0]\n",
    "x = x.strip(']')\n",
    "x = x.strip('[')\n",
    "x = x.split()\n",
    "list_x = np.array(x, dtype=np.float32)\n",
    "print(list_x)\n",
    "plt.hist(list_x);"
   ]
  },
  {
   "cell_type": "markdown",
   "metadata": {},
   "source": [
    "Need to reshape the list of scores so sklearn is willing to play with it (here's what it looks like):"
   ]
  },
  {
   "cell_type": "code",
   "execution_count": 9,
   "metadata": {},
   "outputs": [
    {
     "data": {
      "text/plain": [
       "array([[0.33],\n",
       "       [0.84],\n",
       "       [0.86],\n",
       "       [0.76],\n",
       "       [0.99],\n",
       "       [0.31],\n",
       "       [0.74],\n",
       "       [0.  ],\n",
       "       [0.09]], dtype=float32)"
      ]
     },
     "execution_count": 9,
     "metadata": {},
     "output_type": "execute_result"
    }
   ],
   "source": [
    "list_x.reshape(-1, 1)"
   ]
  },
  {
   "cell_type": "markdown",
   "metadata": {},
   "source": [
    "Fit the sklearn Gaussian Mixture model over the actual distribution of scores, and plot what the resulting distribution looks like (using random sampling from the fitted model). This model assumes 2 components (i.e. 2 overlapping Gaussians).\n",
    "\n",
    "https://scikit-learn.org/stable/modules/generated/sklearn.mixture.GaussianMixture.html"
   ]
  },
  {
   "cell_type": "code",
   "execution_count": 10,
   "metadata": {},
   "outputs": [
    {
     "data": {
      "image/png": "[encoded data removed]",
      "text/plain": [
       "<Figure size 432x288 with 1 Axes>"
      ]
     },
     "metadata": {
      "needs_background": "light"
     },
     "output_type": "display_data"
    }
   ],
   "source": [
    "model = mixture.GaussianMixture(n_components=2)\n",
    "fitted_model = model.fit(list_x.reshape(-1, 1))\n",
    "plt.hist(fitted_model.sample(1000)[0], bins=100);   # nice semicolon = skip printing the giant array "
   ]
  },
  {
   "cell_type": "markdown",
   "metadata": {},
   "source": [
    "This isn't bad?!\n",
    "\n",
    "Now, to get the mean and standard deviation for each component. The mean is straightforward:"
   ]
  },
  {
   "cell_type": "code",
   "execution_count": 11,
   "metadata": {},
   "outputs": [
    {
     "data": {
      "text/plain": [
       "array([0.83801041, 0.18258308])"
      ]
     },
     "execution_count": 11,
     "metadata": {},
     "output_type": "execute_result"
    }
   ],
   "source": [
    "means = fitted_model.means_.flatten()\n",
    "means"
   ]
  },
  {
   "cell_type": "markdown",
   "metadata": {},
   "source": [
    "Need some sorcery to get the standard deviation, but the internet says this works:\n",
    "https://stackoverflow.com/questions/40874263/how-to-get-standard-deviation-from-each-components-in-sklearn-gmm-after-fit"
   ]
  },
  {
   "cell_type": "code",
   "execution_count": 12,
   "metadata": {},
   "outputs": [
    {
     "data": {
      "text/plain": [
       "[0.06267761041495623, 0.10003483971618532]"
      ]
     },
     "execution_count": 12,
     "metadata": {},
     "output_type": "execute_result"
    }
   ],
   "source": [
    "cov = fitted_model.covariances_\n",
    "stdevs = [ np.sqrt(  np.trace(cov[i])/2) for i in range(0,2) ]\n",
    "stdevs"
   ]
  },
  {
   "cell_type": "markdown",
   "metadata": {},
   "source": [
    "As a sanity check: plot each of the component distribution PDFs (from the mean and standard deviation) to confirm that it roughly matches the component in the original Gaussian mixture.\n",
    "\n",
    "loc is mean and scale is standard deviation: https://docs.scipy.org/doc/scipy/reference/generated/scipy.stats.norm.html"
   ]
  },
  {
   "cell_type": "code",
   "execution_count": 13,
   "metadata": {},
   "outputs": [
    {
     "data": {
      "text/plain": [
       "6.364988673949773"
      ]
     },
     "execution_count": 13,
     "metadata": {},
     "output_type": "execute_result"
    }
   ],
   "source": [
    "stats.norm.pdf(x=means[0], loc=means[0], scale=stdevs[0])"
   ]
  },
  {
   "cell_type": "code",
   "execution_count": 14,
   "metadata": {},
   "outputs": [
    {
     "data": {
      "image/png": "[encoded data removed]",
      "text/plain": [
       "<Figure size 432x288 with 1 Axes>"
      ]
     },
     "metadata": {
      "needs_background": "light"
     },
     "output_type": "display_data"
    }
   ],
   "source": [
    "# Plot between -10 and 10 with .001 steps.\n",
    "x_axis = np.arange(0, 1, 0.001)\n",
    "# Mean = 0, SD = 2.\n",
    "plt.plot(x_axis, stats.norm.pdf(x_axis,means[0],stdevs[0]))\n",
    "plt.show()"
   ]
  },
  {
   "cell_type": "markdown",
   "metadata": {},
   "source": [
    "# pytorch\n",
    "\n",
    "Normal distributions in PyTorch: https://pytorch.org/docs/stable/generated/torch.normal.html\n",
    "\n",
    "Mixture models: https://pytorch.org/docs/stable/distributions.html#mixturesamefamily\n",
    "\n",
    "Example of mixed Gaussian: https://data-newbie.tistory.com/514"
   ]
  },
  {
   "cell_type": "code",
   "execution_count": 15,
   "metadata": {},
   "outputs": [],
   "source": [
    "import torch\n",
    "from torch import distributions as D\n",
    "from torch.distributions.mixture_same_family import MixtureSameFamily"
   ]
  },
  {
   "cell_type": "code",
   "execution_count": 16,
   "metadata": {},
   "outputs": [],
   "source": [
    "i = 0\n",
    "mean_a = torch.Tensor([means[i]])\n",
    "stdev_a = torch.Tensor([stdevs[i]])     # notice the extra brackets here\n",
    "comp_a = D.Normal(mean_a[0], stdev_a[0])"
   ]
  },
  {
   "cell_type": "code",
   "execution_count": 17,
   "metadata": {},
   "outputs": [],
   "source": [
    "i = 1\n",
    "mean_b = torch.Tensor([means[i]])\n",
    "stdev_b = torch.Tensor([stdevs[i]])     # notice the extra brackets here\n",
    "comp_b = D.Normal(mean_b[0], stdev_b[0])"
   ]
  },
  {
   "cell_type": "code",
   "execution_count": 18,
   "metadata": {},
   "outputs": [
    {
     "name": "stdout",
     "output_type": "stream",
     "text": [
      "torch.Size([2])\n"
     ]
    },
    {
     "name": "stderr",
     "output_type": "stream",
     "text": [
      "/Users/elissali/anaconda3/lib/python3.7/site-packages/torch/distributions/distribution.py:134: UserWarning: sample_n will be deprecated. Use .sample((n,)) instead\n",
      "  warnings.warn('sample_n will be deprecated. Use .sample((n,)) instead', UserWarning)\n",
      "/Users/elissali/anaconda3/lib/python3.7/site-packages/scipy/stats/stats.py:1713: FutureWarning: Using a non-tuple sequence for multidimensional indexing is deprecated; use `arr[tuple(seq)]` instead of `arr[seq]`. In the future this will be interpreted as an array index, `arr[np.array(seq)]`, which will result either in an error or a different result.\n",
      "  return np.add.reduce(sorted[indexer] * weights, axis=axis) / sumval\n"
     ]
    },
    {
     "data": {
      "text/plain": [
       "<matplotlib.axes._subplots.AxesSubplot at 0x7f8a7f79a6a0>"
      ]
     },
     "execution_count": 18,
     "metadata": {},
     "output_type": "execute_result"
    },
    {
     "data": {
      "image/png": "[encoded data removed]",
      "text/plain": [
       "<Figure size 432x288 with 1 Axes>"
      ]
     },
     "metadata": {
      "needs_background": "light"
     },
     "output_type": "display_data"
    }
   ],
   "source": [
    "means = torch.cat((mean_a, mean_b))\n",
    "print(means.shape)\n",
    "stdevs = torch.cat((stdev_a, stdev_b))\n",
    "comp = D.Normal(means, stdevs)\n",
    "mix = D.Categorical(torch.ones(2,))\n",
    "\n",
    "gmm = MixtureSameFamily(mix, comp)\n",
    "sns.distplot(gmm.sample_n(1000).detach().numpy())"
   ]
  },
  {
   "cell_type": "code",
   "execution_count": 19,
   "metadata": {},
   "outputs": [
    {
     "data": {
      "text/plain": [
       "torch.distributions.mixture_same_family.MixtureSameFamily"
      ]
     },
     "execution_count": 19,
     "metadata": {},
     "output_type": "execute_result"
    }
   ],
   "source": [
    "type(gmm)"
   ]
  },
  {
   "cell_type": "markdown",
   "metadata": {},
   "source": [
    "### Steps:\n",
    "\n",
    "1. Use sklearn to fit gmm over scores for each sentence, and return (mean, standard deviation) for each component distribution `x 2` for each sentence in split_dataset.py\n",
    "2. In models.py, read the component (mean, standard deviation) and fit it into a torch MixtureSameFamily distribution. \n",
    "3. In models.py, loss should be between two MixtureSameFamily distributions. "
   ]
  },
  {
   "cell_type": "markdown",
   "metadata": {},
   "source": [
    "# Scrapwork"
   ]
  },
  {
   "cell_type": "code",
   "execution_count": 20,
   "metadata": {},
   "outputs": [],
   "source": [
    "def get_mixture(array):\n",
    "    model = mixture.GaussianMixture(n_components=2)\n",
    "    mixed_means = dict()\n",
    "    mixed_stdevs = dict()\n",
    "    for i, tgrep in enumerate(array.keys()):\n",
    "        scores = np.array(array[tgrep], dtype=np.float32)\n",
    "        fitted_model = model.fit(scores.reshape(-1, 1))\n",
    "        mixed_means[tgrep] = fitted_model.means_.flatten()\n",
    "        cov = fitted_model.covariances_\n",
    "        mixed_stdevs[tgrep] = [ np.sqrt(  np.trace(cov[i])/2) for i in range(0,2) ]\n",
    "    return mixed_means, mixed_stdevs "
   ]
  },
  {
   "cell_type": "code",
   "execution_count": 21,
   "metadata": {},
   "outputs": [
    {
     "data": {
      "text/html": [
       "<div>\n",
       "<style scoped>\n",
       "    .dataframe tbody tr th:only-of-type {\n",
       "        vertical-align: middle;\n",
       "    }\n",
       "\n",
       "    .dataframe tbody tr th {\n",
       "        vertical-align: top;\n",
       "    }\n",
       "\n",
       "    .dataframe thead th {\n",
       "        text-align: right;\n",
       "    }\n",
       "</style>\n",
       "<table border=\"1\" class=\"dataframe\">\n",
       "  <thead>\n",
       "    <tr style=\"text-align: right;\">\n",
       "      <th></th>\n",
       "      <th>tgrep.id</th>\n",
       "      <th>workerid</th>\n",
       "      <th>sentence_bnb</th>\n",
       "      <th>response_goodsentence</th>\n",
       "      <th>response_val</th>\n",
       "      <th>Trial</th>\n",
       "      <th>gender</th>\n",
       "      <th>age</th>\n",
       "    </tr>\n",
       "  </thead>\n",
       "  <tbody>\n",
       "    <tr>\n",
       "      <th>0</th>\n",
       "      <td>362:41:00</td>\n",
       "      <td>365</td>\n",
       "      <td>that's just a matter of defining priorities, i...</td>\n",
       "      <td>good bnb sentence</td>\n",
       "      <td>0.12</td>\n",
       "      <td>1</td>\n",
       "      <td>Female</td>\n",
       "      <td>31.0</td>\n",
       "    </tr>\n",
       "    <tr>\n",
       "      <th>1</th>\n",
       "      <td>362:41:00</td>\n",
       "      <td>366</td>\n",
       "      <td>that's just a matter of defining priorities, i...</td>\n",
       "      <td>good bnb sentence</td>\n",
       "      <td>0.00</td>\n",
       "      <td>1</td>\n",
       "      <td>Male</td>\n",
       "      <td>32.0</td>\n",
       "    </tr>\n",
       "    <tr>\n",
       "      <th>2</th>\n",
       "      <td>362:41:00</td>\n",
       "      <td>367</td>\n",
       "      <td>that's just a matter of defining priorities, i...</td>\n",
       "      <td>good bnb sentence</td>\n",
       "      <td>0.78</td>\n",
       "      <td>1</td>\n",
       "      <td>NaN</td>\n",
       "      <td>NaN</td>\n",
       "    </tr>\n",
       "    <tr>\n",
       "      <th>3</th>\n",
       "      <td>362:41:00</td>\n",
       "      <td>368</td>\n",
       "      <td>that's just a matter of defining priorities, i...</td>\n",
       "      <td>bad bnb sentence</td>\n",
       "      <td>0.50</td>\n",
       "      <td>1</td>\n",
       "      <td>Male</td>\n",
       "      <td>36.0</td>\n",
       "    </tr>\n",
       "    <tr>\n",
       "      <th>4</th>\n",
       "      <td>362:41:00</td>\n",
       "      <td>369</td>\n",
       "      <td>that's just a matter of defining priorities, i...</td>\n",
       "      <td>bad bnb sentence</td>\n",
       "      <td>0.90</td>\n",
       "      <td>1</td>\n",
       "      <td>Female</td>\n",
       "      <td>39.0</td>\n",
       "    </tr>\n",
       "  </tbody>\n",
       "</table>\n",
       "</div>"
      ],
      "text/plain": [
       "    tgrep.id  workerid                                       sentence_bnb  \\\n",
       "0  362:41:00       365  that's just a matter of defining priorities, i...   \n",
       "1  362:41:00       366  that's just a matter of defining priorities, i...   \n",
       "2  362:41:00       367  that's just a matter of defining priorities, i...   \n",
       "3  362:41:00       368  that's just a matter of defining priorities, i...   \n",
       "4  362:41:00       369  that's just a matter of defining priorities, i...   \n",
       "\n",
       "  response_goodsentence  response_val  Trial  gender   age  \n",
       "0     good bnb sentence          0.12      1  Female  31.0  \n",
       "1     good bnb sentence          0.00      1    Male  32.0  \n",
       "2     good bnb sentence          0.78      1     NaN   NaN  \n",
       "3      bad bnb sentence          0.50      1    Male  36.0  \n",
       "4      bad bnb sentence          0.90      1  Female  39.0  "
      ]
     },
     "execution_count": 21,
     "metadata": {},
     "output_type": "execute_result"
    }
   ],
   "source": [
    "data_df.head()"
   ]
  },
  {
   "cell_type": "code",
   "execution_count": 22,
   "metadata": {},
   "outputs": [],
   "source": [
    "x = data_df.groupby('tgrep.id')['response_val'].apply(list).to_dict()   # {tgrep.id : [raw ratings]}"
   ]
  },
  {
   "cell_type": "code",
   "execution_count": 23,
   "metadata": {},
   "outputs": [],
   "source": [
    "means, stds = get_mixture(x)"
   ]
  },
  {
   "cell_type": "markdown",
   "metadata": {},
   "source": [
    "Some stuff on batches in distributions: https://bochang.me/blog/posts/pytorch-distributions/"
   ]
  },
  {
   "cell_type": "code",
   "execution_count": 24,
   "metadata": {},
   "outputs": [],
   "source": [
    "ex_means = torch.rand([32,2])\n",
    "ex_stds = torch.rand([32,2])\n",
    "\n",
    "comp = D.Normal(ex_means, ex_stds)\n",
    "comp.batch_shape\n",
    "\n",
    "mix = D.Categorical(torch.ones(32,2,))       # I think this needs to be (32,2) instead of just (2,)\n",
    "\n",
    "gmm = MixtureSameFamily(mix, comp)\n",
    "# sns.distplot(gmm.sample_n(1000).detach().numpy())"
   ]
  },
  {
   "cell_type": "code",
   "execution_count": 25,
   "metadata": {},
   "outputs": [
    {
     "data": {
      "text/plain": [
       "tensor([ 0.8729,  0.6992,  0.7463,  0.8736,  1.4717,  0.1010,  0.8752, -0.4207,\n",
       "         1.0379,  1.2924,  1.1207,  0.0579,  1.4370,  1.2095,  1.0967,  0.1769,\n",
       "         0.2165, -0.7733,  0.7818, -0.5039,  0.0591,  1.0822,  1.2781,  0.3099,\n",
       "         0.8279,  0.6739,  0.6451, -0.0851,  0.5384,  1.1823,  0.0756,  0.3436])"
      ]
     },
     "execution_count": 25,
     "metadata": {},
     "output_type": "execute_result"
    }
   ],
   "source": [
    "gmm.sample()"
   ]
  },
  {
   "cell_type": "code",
   "execution_count": 78,
   "metadata": {},
   "outputs": [
    {
     "data": {
      "text/plain": [
       "MixtureSameFamily(\n",
       "  Categorical(probs: torch.Size([32, 2]), logits: torch.Size([32, 2])),\n",
       "  Normal(loc: torch.Size([32, 2]), scale: torch.Size([32, 2])))"
      ]
     },
     "execution_count": 78,
     "metadata": {},
     "output_type": "execute_result"
    }
   ],
   "source": [
    "type(gmm)\n",
    "type(comp)\n",
    "comp\n",
    "gmm"
   ]
  },
  {
   "cell_type": "markdown",
   "metadata": {},
   "source": [
    "## Monte Carlo approximation of KL divergence? \n",
    "\n",
    "No analytic solution for KL divergence on mixed Gaussians; best you can do is a Monte Carlo approximation on the bounds: https://github.com/tensorflow/probability/issues/199\n",
    "\n",
    "More on Monte Carlo here: https://www.tensorflow.org/probability/api_docs/python/tfp/monte_carlo/expectation\n",
    "\n",
    "Example of Monte Carlo approximation of KL divergence between GMMs here: https://stackoverflow.com/questions/26079881/kl-divergence-of-two-gmms?noredirect=1&lq=1\n",
    "\n",
    "**TODO**: But can you even backprop through a Monte Carlo? Second paragraph of this thing says it's not possible to backprop through random samples: https://pytorch.org/docs/stable/distributions.html\n",
    "\n",
    "### Monte Carlo attempt based on stackoverflow example: gmm_kl\n",
    " * in skl: score_samples = weighted log probs for each sample"
   ]
  },
  {
   "cell_type": "code",
   "execution_count": 71,
   "metadata": {},
   "outputs": [],
   "source": [
    "def gmm_kl(gmm_p, gmm_q, n_samples=10**5):\n",
    "    X = gmm_p.sample_n(n_samples)           # sample from first gmm a bunch of times: (n_samples,batch_size)\n",
    "    log_p_X = gmm_p.log_prob(X)             # weighted log prob for samples in first gmm: (n_samples,batch_size)\n",
    "    log_q_X = gmm_q.log_prob(X)             # weighted log prob for samples in second gmm: (n_samples,batch_size)\n",
    "#     print(log_q_X)\n",
    "#     print(log_q_X.mean())\n",
    "    return log_p_X.mean() - log_q_X.mean()  # difference between average log probs for each gmm "
   ]
  },
  {
   "cell_type": "code",
   "execution_count": 72,
   "metadata": {},
   "outputs": [
    {
     "name": "stderr",
     "output_type": "stream",
     "text": [
      "/Users/elissali/anaconda3/lib/python3.7/site-packages/torch/distributions/distribution.py:134: UserWarning: sample_n will be deprecated. Use .sample((n,)) instead\n",
      "  warnings.warn('sample_n will be deprecated. Use .sample((n,)) instead', UserWarning)\n"
     ]
    },
    {
     "data": {
      "text/plain": [
       "tensor(0.)"
      ]
     },
     "execution_count": 72,
     "metadata": {},
     "output_type": "execute_result"
    }
   ],
   "source": [
    "gmm_kl(gmm, gmm)"
   ]
  },
  {
   "cell_type": "code",
   "execution_count": 73,
   "metadata": {},
   "outputs": [
    {
     "data": {
      "text/plain": [
       "<function __main__.gmm_kl(gmm_p, gmm_q, n_samples=100000)>"
      ]
     },
     "execution_count": 73,
     "metadata": {},
     "output_type": "execute_result"
    }
   ],
   "source": [
    "gmm_kl"
   ]
  },
  {
   "cell_type": "code",
   "execution_count": 76,
   "metadata": {
    "scrolled": true
   },
   "outputs": [
    {
     "name": "stderr",
     "output_type": "stream",
     "text": [
      "/Users/elissali/anaconda3/lib/python3.7/site-packages/torch/distributions/distribution.py:134: UserWarning: sample_n will be deprecated. Use .sample((n,)) instead\n",
      "  warnings.warn('sample_n will be deprecated. Use .sample((n,)) instead', UserWarning)\n"
     ]
    },
    {
     "data": {
      "text/plain": [
       "torch.Size([10, 32])"
      ]
     },
     "execution_count": 76,
     "metadata": {},
     "output_type": "execute_result"
    }
   ],
   "source": [
    "gmm.sample_n(10).size()"
   ]
  },
  {
   "cell_type": "markdown",
   "metadata": {},
   "source": [
    "## towardsdatascience example: gnll\n",
    "\n",
    "With random numbers, to check if it works:\n"
   ]
  },
  {
   "cell_type": "code",
   "execution_count": null,
   "metadata": {},
   "outputs": [],
   "source": [
    "def slice_parameter_vectors(parameter_vector):\n",
    "    \"\"\" Returns an unpacked list of paramter vectors.\n",
    "    \"\"\"\n",
    "    return [parameter_vector[:,i*components:(i+1)*components] for i in range(no_parameters)]\n",
    "\n",
    "def gnll_loss(y, parameter_vector):\n",
    "    \"\"\" Computes the mean negative log-likelihood loss of y given the mixture parameters.\n",
    "    \"\"\"\n",
    "    alpha, mu, sigma = slice_parameter_vectors(parameter_vector)  # Unpack parameter vectors\n",
    "    \n",
    "    gm = tfd.MixtureSameFamily(\n",
    "        mixture_distribution=tfd.Categorical(probs=alpha),\n",
    "        components_distribution=tfd.Normal(\n",
    "            loc=mu,       \n",
    "            scale=sigma))\n",
    "    \n",
    "    log_likelihood = gm.log_prob(tf.transpose(y))                 # Evaluate log-probability of y\n",
    "    \n",
    "    return -tf.reduce_mean(log_likelihood, axis=-1)"
   ]
  },
  {
   "cell_type": "code",
   "execution_count": 106,
   "metadata": {},
   "outputs": [],
   "source": [
    "gm_gnll = MixtureSameFamily(mixture_distribution=D.Categorical(probs=torch.rand([32,2])), \n",
    "                            component_distribution=D.Normal(loc=torch.rand([32,2]), scale=torch.rand([32,2])))"
   ]
  },
  {
   "cell_type": "code",
   "execution_count": 101,
   "metadata": {},
   "outputs": [],
   "source": [
    "log_likelihood = gm_gnll.log_prob(torch.Tensor([list_x.reshape(-1,1)]))"
   ]
  },
  {
   "cell_type": "code",
   "execution_count": 103,
   "metadata": {},
   "outputs": [
    {
     "data": {
      "text/plain": [
       "tensor([[0.6629, 0.7918, 0.8128, 0.7414, 1.0218, 0.6689, 0.7371, 1.0396, 0.8053]])"
      ]
     },
     "execution_count": 103,
     "metadata": {},
     "output_type": "execute_result"
    }
   ],
   "source": [
    "-torch.mean(log_likelihood, axis=-1)"
   ]
  },
  {
   "cell_type": "markdown",
   "metadata": {},
   "source": [
    "### With actual example:"
   ]
  },
  {
   "cell_type": "code",
   "execution_count": 114,
   "metadata": {},
   "outputs": [
    {
     "name": "stdout",
     "output_type": "stream",
     "text": [
      "torch.Size([9, 32])\n"
     ]
    },
    {
     "data": {
      "text/plain": [
       "tensor([0.5969, 0.9918, 1.0673, 0.6903, 1.5676, 0.5858, 0.6178, 1.1630, 0.9547])"
      ]
     },
     "execution_count": 114,
     "metadata": {},
     "output_type": "execute_result"
    }
   ],
   "source": [
    "gm_2 = MixtureSameFamily(mixture_distribution=mix, \n",
    "                            component_distribution=comp)\n",
    "\n",
    "log_likelihood = gm_gnll.log_prob(torch.Tensor(list_x.reshape(-1,1)))\n",
    "\n",
    "print(log_likelihood.shape)\n",
    "\n",
    "-torch.mean(log_likelihood, axis=-1)"
   ]
  },
  {
   "cell_type": "code",
   "execution_count": 110,
   "metadata": {},
   "outputs": [
    {
     "data": {
      "text/plain": [
       "tensor(0.9150)"
      ]
     },
     "execution_count": 110,
     "metadata": {},
     "output_type": "execute_result"
    }
   ],
   "source": [
    "-torch.mean(log_likelihood)"
   ]
  },
  {
   "cell_type": "code",
   "execution_count": 111,
   "metadata": {},
   "outputs": [
    {
     "data": {
      "text/plain": [
       "tensor(0.9150)"
      ]
     },
     "execution_count": 111,
     "metadata": {},
     "output_type": "execute_result"
    }
   ],
   "source": [
    "x = -torch.mean(log_likelihood, axis=-1)\n",
    "x.mean()"
   ]
  },
  {
   "cell_type": "markdown",
   "metadata": {},
   "source": [
    "# sense-check"
   ]
  },
  {
   "cell_type": "markdown",
   "metadata": {},
   "source": [
    "for a batch of 32, D.Normal should create 32 normal distributions. And then when you call log_prob, you should get a tensor of (32,10) where 10 people scored the sentence.\n",
    "\n",
    "**Question**: Is it actually storing 32 distributions? Or is it doing a weird multi-d normal?\n",
    "\n",
    "**Question**: When you then apply log_prob, does it actually compute the log_prob for each? Does it choose the right normal distribution/the right mixture gaussian distribution to score the individual datapoints? Or is it weirdly assuming it's a big multidimensional gaussian?\n",
    "\n",
    "**Test**: Create 2 fake parameters for 2 sets of normal distributions (2 means, 2 variances - and make them very different). Like (0.1, 0.3) and (0.7, 0.9). And then you can construct a D.Normal where you just give it 2 means and 2 variances, and then create the mixture family as we do in the code... and then score datapoints and make sure that when you score a tensor of size ([2,10]), that you get the same results as when you score both rows of that tensor individually..."
   ]
  },
  {
   "cell_type": "markdown",
   "metadata": {},
   "source": [
    "### Example:\n",
    "\n",
    "#### Is D.Normal storing multiple distributions?\n",
    "\n",
    "Suppose we have 3 examples (like 3 training examples), each of which has 2 component distributions. So `test_means` has shape (3,2) -- one mean for each of the two components, and then two components for each of the three training examples. We store this in a D.Normal, which has a batch shape of (3,2). "
   ]
  },
  {
   "cell_type": "code",
   "execution_count": 184,
   "metadata": {},
   "outputs": [
    {
     "data": {
      "text/plain": [
       "torch.Size([3, 2])"
      ]
     },
     "execution_count": 184,
     "metadata": {},
     "output_type": "execute_result"
    }
   ],
   "source": [
    "test_means = torch.rand([3,2])           # (number of examples, number of components per example)\n",
    "test_stds = torch.rand([3,2])\n",
    "\n",
    "test_normal = D.Normal(test_means, test_stds)\n",
    "test_normal.batch_shape"
   ]
  },
  {
   "cell_type": "markdown",
   "metadata": {},
   "source": [
    "Then we sample 10000 times from the D.Normal (which we named `test_normal`). So now we have a tensor with the following shape:\n",
    "\n",
    "`[num_samples per example, num_examples, num_components per example]`, i.e. (10000, 3, 2)."
   ]
  },
  {
   "cell_type": "code",
   "execution_count": 185,
   "metadata": {},
   "outputs": [
    {
     "data": {
      "text/plain": [
       "torch.Size([10000, 3, 2])"
      ]
     },
     "execution_count": 185,
     "metadata": {},
     "output_type": "execute_result"
    }
   ],
   "source": [
    "samples = test_normal.sample((10000,))\n",
    "samples.shape"
   ]
  },
  {
   "cell_type": "markdown",
   "metadata": {},
   "source": [
    "Now we check whether `test_normal` is actually storing the distributions we want it to. We know what the means are for each distribution and each component (stored in `test_means`), so we can compare the means from `test_means` with the calculated means from our sample and confirm that they line up. \n",
    "\n",
    "Which they do! The below cell checks this for each of the two components for the first training example. So it's taking the first pair of means from `test_means`, and then comparing them to the sample means (sampled from the previous cell)."
   ]
  },
  {
   "cell_type": "code",
   "execution_count": 186,
   "metadata": {},
   "outputs": [
    {
     "name": "stdout",
     "output_type": "stream",
     "text": [
      "torch.Size([10000])\n",
      "component means:  tensor([0.0425, 0.1915])\n",
      "sample means:  tensor(0.0395) ,  tensor(0.1913)\n"
     ]
    },
    {
     "name": "stderr",
     "output_type": "stream",
     "text": [
      "/Users/elissali/anaconda3/lib/python3.7/site-packages/scipy/stats/stats.py:1713: FutureWarning: Using a non-tuple sequence for multidimensional indexing is deprecated; use `arr[tuple(seq)]` instead of `arr[seq]`. In the future this will be interpreted as an array index, `arr[np.array(seq)]`, which will result either in an error or a different result.\n",
      "  return np.add.reduce(sorted[indexer] * weights, axis=axis) / sumval\n"
     ]
    },
    {
     "data": {
      "image/png": "[encoded data removed]",
      "text/plain": [
       "<Figure size 432x288 with 1 Axes>"
      ]
     },
     "metadata": {
      "needs_background": "light"
     },
     "output_type": "display_data"
    }
   ],
   "source": [
    "comp1 = samples[:,0,0]\n",
    "comp2 = samples[:,0,1]\n",
    "print(comp1.shape)\n",
    "print(\"component means: \", test_means[0])\n",
    "print(\"sample means: \", comp1.mean(), \", \", comp2.mean())\n",
    "sns.distplot(comp1);"
   ]
  },
  {
   "cell_type": "markdown",
   "metadata": {},
   "source": [
    "#### Does log_prob actually compute the log probabilities for each gaussian mix, in a batch?\n",
    "\n",
    "Okay, so we now know that D.Normal is storing multiple distributions like we wanted (in `test_normal`). Now, if we feed `test_normal` into MixtureSameFamily and then take the log_prob of a list of samples (`list_x`), does it take the log_prob correctly?"
   ]
  },
  {
   "cell_type": "code",
   "execution_count": 187,
   "metadata": {},
   "outputs": [
    {
     "data": {
      "text/plain": [
       "Normal(loc: torch.Size([3, 2]), scale: torch.Size([3, 2]))"
      ]
     },
     "execution_count": 187,
     "metadata": {},
     "output_type": "execute_result"
    }
   ],
   "source": [
    "test_normal        # batch_size=3, num_components=2"
   ]
  },
  {
   "cell_type": "code",
   "execution_count": 188,
   "metadata": {},
   "outputs": [],
   "source": [
    "test_mix = D.Categorical(torch.ones([3,2]))"
   ]
  },
  {
   "cell_type": "code",
   "execution_count": 189,
   "metadata": {},
   "outputs": [],
   "source": [
    "test_gm = MixtureSameFamily(mixture_distribution = test_mix, component_distribution = test_normal)"
   ]
  },
  {
   "cell_type": "markdown",
   "metadata": {},
   "source": [
    "This is the actual y (i.e. the array of 9 scores that the 9 humans gave for a particular sentence). In general, we want to see how likely it is that this actual y (`test_array`) comes from the mixed Gaussian `test_gm` by getting its log likelihood. \n",
    "\n",
    "The resulting output is (9 x 3): for each of the 3 examples (i.e. 3 mixed Gaussians), the log likelihood of the 9 scores:"
   ]
  },
  {
   "cell_type": "code",
   "execution_count": 190,
   "metadata": {},
   "outputs": [],
   "source": [
    "test_array = torch.Tensor(list_x.reshape(-1,1))"
   ]
  },
  {
   "cell_type": "code",
   "execution_count": 191,
   "metadata": {},
   "outputs": [
    {
     "data": {
      "text/plain": [
       "tensor([[-0.3707, -1.1107, -0.1537],\n",
       "        [-1.2282, -1.1443, -1.2274],\n",
       "        [-1.2799, -1.1510, -1.2277],\n",
       "        [-1.0350, -1.1159, -1.2350],\n",
       "        [-1.6479, -1.2192, -1.2504],\n",
       "        [-0.3554, -1.2529, -0.7024],\n",
       "        [-0.9900, -1.0917, -1.2391],\n",
       "        [-0.3021, -1.8220, -1.9960],\n",
       "        [-0.2820, -1.6604, -1.8408]])"
      ]
     },
     "execution_count": 191,
     "metadata": {},
     "output_type": "execute_result"
    }
   ],
   "source": [
    "test_gm.log_prob(test_array)"
   ]
  },
  {
   "cell_type": "markdown",
   "metadata": {},
   "source": [
    "Let's check the first example (i.e. a MixtureSameFamily for just the first example). It would be this:"
   ]
  },
  {
   "cell_type": "code",
   "execution_count": 194,
   "metadata": {},
   "outputs": [],
   "source": [
    "single_mix = D.Categorical(torch.ones([2]))\n",
    "single_normal = D.Normal(test_means[0], test_stds[0])\n",
    "single_gm = MixtureSameFamily(mixture_distribution = single_mix, component_distribution = single_normal)"
   ]
  },
  {
   "cell_type": "markdown",
   "metadata": {},
   "source": [
    "The below should be identical to the first column of the (9 x 3) output -- which it is! Hooray!"
   ]
  },
  {
   "cell_type": "code",
   "execution_count": 196,
   "metadata": {},
   "outputs": [
    {
     "data": {
      "text/plain": [
       "tensor([[-0.3707],\n",
       "        [-1.2282],\n",
       "        [-1.2799],\n",
       "        [-1.0350],\n",
       "        [-1.6479],\n",
       "        [-0.3554],\n",
       "        [-0.9900],\n",
       "        [-0.3021],\n",
       "        [-0.2820]])"
      ]
     },
     "execution_count": 196,
     "metadata": {},
     "output_type": "execute_result"
    }
   ],
   "source": [
    "single_gm.log_prob(test_array)"
   ]
  },
  {
   "cell_type": "code",
   "execution_count": null,
   "metadata": {},
   "outputs": [],
   "source": []
  }
 ],
 "metadata": {
  "kernelspec": {
   "display_name": "Python 3",
   "language": "python",
   "name": "python3"
  },
  "language_info": {
   "codemirror_mode": {
    "name": "ipython",
    "version": 3
   },
   "file_extension": ".py",
   "mimetype": "text/x-python",
   "name": "python",
   "nbconvert_exporter": "python",
   "pygments_lexer": "ipython3",
   "version": "3.7.2"
  }
 },
 "nbformat": 4,
 "nbformat_minor": 2
}
